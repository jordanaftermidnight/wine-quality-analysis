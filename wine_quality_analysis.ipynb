{
 "cells": [
  {
   "cell_type": "code",
   "execution_count": 2,
   "metadata": {
    "colab": {
     "base_uri": "https://localhost:8080/",
     "height": 1000
    },
    "id": "QcGvis1LPCiY",
    "outputId": "275730b4-99ea-44d5-f9bc-c5f470aa7f44"
   },
   "outputs": [
    {
     "name": "stdout",
     "output_type": "stream",
     "text": [
      "Python version: 3.13.1\n",
      "Numpy version: 2.3.1\n",
      "Pandas version: 2.3.1\n",
      "Scikit-learn version: 1.7.0\n",
      "Plotly version: 6.2.0\n",
      "IPython version: 8.31.0\n"
     ]
    }
   ],
   "source": [
    "# Wine Quality Analysis: Regression and Classification\n",
    "# =======================================================\n",
    "#\n",
    "# This notebook demonstrates a comprehensive machine learning pipeline for\n",
    "# predicting wine quality using both regression and classification approaches.\n",
    "#\n",
    "# Author: Jordan After Midnight\n",
    "# GitHub: https://github.com/jordanaftermidnight/wine-quality-analysis\n",
    "\n",
    "# %%\n",
    "# --- Setup and Environment Checking ---\n",
    "import sys\n",
    "import platform\n",
    "import numpy as np\n",
    "import pandas as pd\n",
    "import matplotlib.pyplot as plt\n",
    "import seaborn as sns\n",
    "from sklearn import __version__ as sklearn_version\n",
    "import plotly\n",
    "import IPython\n",
    "\n",
    "# Display environment info for reproducibility\n",
    "print(f\"Python version: {platform.python_version()}\")\n",
    "print(f\"Numpy version: {np.__version__}\")\n",
    "print(f\"Pandas version: {pd.__version__}\")\n",
    "print(f\"Scikit-learn version: {sklearn_version}\")\n",
    "print(f\"Plotly version: {plotly.__version__}\")\n",
    "print(f\"IPython version: {IPython.__version__}\")\n",
    "\n",
    "# Set random seed for reproducibility across the entire notebook\n",
    "RANDOM_SEED = 42\n",
    "np.random.seed(RANDOM_SEED)\n",
    "\n",
    "# Standard imports for the project\n",
    "from sklearn.model_selection import train_test_split, KFold, GridSearchCV, RandomizedSearchCV, cross_val_score, learning_curve\n",
    "from sklearn.preprocessing import StandardScaler\n",
    "from sklearn.decomposition import PCA\n",
    "from sklearn.linear_model import LinearRegression, Ridge, Lasso, ElasticNet\n",
    "from sklearn.ensemble import RandomForestRegressor, GradientBoostingRegressor\n",
    "from sklearn.svm import SVR\n",
    "from sklearn.neighbors import KNeighborsRegressor\n",
    "from sklearn.metrics import mean_squared_error, r2_score, mean_absolute_error\n",
    "from sklearn.linear_model import LogisticRegression\n",
    "from sklearn.ensemble import RandomForestClassifier, GradientBoostingClassifier\n",
    "from sklearn.svm import SVC\n",
    "from sklearn.neighbors import KNeighborsClassifier\n",
    "from sklearn.metrics import accuracy_score, classification_report, confusion_matrix, f1_score, roc_auc_score, roc_curve\n",
    "from sklearn.inspection import permutation_importance\n",
    "from sklearn.base import clone\n",
    "from sklearn.manifold import TSNE\n",
    "import plotly.express as px\n",
    "import plotly.graph_objects as go\n",
    "from plotly.subplots import make_subplots\n",
    "import warnings\n",
    "warnings.filterwarnings('ignore')\n",
    "\n",
    "# Setup matplotlib and seaborn for consistent styling\n",
    "plt.style.use('default')\n",
    "sns.set_style('whitegrid')\n",
    "sns.set_palette(\"deep\")\n",
    "plt.rcParams['figure.figsize'] = (12, 8)\n",
    "plt.rcParams['figure.dpi'] = 100\n",
    "\n",
    "# Import our custom visualization utilities\n",
    "from utils.visualization import save_fig, set_plotting_style, plot_confusion_matrix, plot_roc_curve, plot_feature_importance\n",
    "\n",
    "# Set consistent plotting style\n",
    "set_plotting_style()"
   ]
  }
 ],
 "metadata": {
  "colab": {
   "provenance": []
  },
  "kernelspec": {
   "display_name": "Python 3 (ipykernel)",
   "language": "python",
   "name": "python3"
  },
  "language_info": {
   "codemirror_mode": {
    "name": "ipython",
    "version": 3
   },
   "file_extension": ".py",
   "mimetype": "text/x-python",
   "name": "python",
   "nbconvert_exporter": "python",
   "pygments_lexer": "ipython3",
   "version": "3.13.1"
  }
 },
 "nbformat": 4,
 "nbformat_minor": 4
}
